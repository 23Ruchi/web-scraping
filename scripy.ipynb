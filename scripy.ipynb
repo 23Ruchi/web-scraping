{
 "cells": [
  {
   "cell_type": "code",
   "execution_count": 5,
   "id": "2bc50507",
   "metadata": {},
   "outputs": [],
   "source": [
    "import requests \n",
    "from bs4 import BeautifulSoup\n",
    "from collections import defaultdict\n",
    "import pandas as pd"
   ]
  },
  {
   "cell_type": "code",
   "execution_count": 6,
   "id": "f0af77a1",
   "metadata": {},
   "outputs": [],
   "source": [
    "url = \"https://www.1mg.com/drugs-all-medicines\"\n",
    "res = requests.get(url)"
   ]
  },
  {
   "cell_type": "code",
   "execution_count": 21,
   "id": "f48d2cc8",
   "metadata": {},
   "outputs": [],
   "source": [
    "headers = {\n",
    "    \"User-Agent\": \"Mozilla/5.0 (Windows NT 10.0; Win64; x64) AppleWebKit/537.36\"\n",
    "}\n"
   ]
  },
  {
   "cell_type": "code",
   "execution_count": 22,
   "id": "f6ee9b80",
   "metadata": {},
   "outputs": [],
   "source": [
    "response = requests.get(url, headers=headers)\n"
   ]
  },
  {
   "cell_type": "code",
   "execution_count": 23,
   "id": "b41adfa7",
   "metadata": {},
   "outputs": [],
   "source": [
    "soup = BeautifulSoup(response.content,\"html.parser\")"
   ]
  },
  {
   "cell_type": "code",
   "execution_count": 27,
   "id": "ced6307b",
   "metadata": {},
   "outputs": [],
   "source": [
    "medic = soup.find_all(class_=\"style__font-bold___1k9Dl style__font-14px___YZZrf style__flex-row___2AKyf style__space-between___2mbvn style__padding-bottom-5px___2NrDR\")"
   ]
  },
  {
   "cell_type": "code",
   "execution_count": 34,
   "id": "bb4cea38",
   "metadata": {},
   "outputs": [
    {
     "data": {
      "text/plain": [
       "['Avastin 100mg Injection', '₹33863']"
      ]
     },
     "execution_count": 34,
     "metadata": {},
     "output_type": "execute_result"
    }
   ],
   "source": [
    "medic[0].text.split(\"MRP\")"
   ]
  },
  {
   "cell_type": "code",
   "execution_count": 41,
   "id": "4d24be25",
   "metadata": {},
   "outputs": [],
   "source": [
    "data = {}"
   ]
  },
  {
   "cell_type": "code",
   "execution_count": 43,
   "id": "ff3daa0e",
   "metadata": {},
   "outputs": [],
   "source": [
    "for medicine in medic:\n",
    "    medicine = medicine.text\n",
    "    tmp = medicine.split(\"MRP\")\n",
    "    data[tmp[0]]= tmp[1]"
   ]
  },
  {
   "cell_type": "code",
   "execution_count": 44,
   "id": "5f72ddff",
   "metadata": {},
   "outputs": [
    {
     "data": {
      "text/plain": [
       "'₹33863'"
      ]
     },
     "execution_count": 44,
     "metadata": {},
     "output_type": "execute_result"
    }
   ],
   "source": [
    "data['Avastin 100mg Injection']"
   ]
  },
  {
   "cell_type": "code",
   "execution_count": 45,
   "id": "3c07bbb6",
   "metadata": {},
   "outputs": [
    {
     "data": {
      "text/plain": [
       "'334'"
      ]
     },
     "execution_count": 45,
     "metadata": {},
     "output_type": "execute_result"
    }
   ],
   "source": [
    "soup.find_all(class_=\"button-text link-page\")[-1].text"
   ]
  },
  {
   "cell_type": "code",
   "execution_count": 54,
   "id": "5d37ebf1",
   "metadata": {},
   "outputs": [],
   "source": [
    "from bs4 import BeautifulSoup\n",
    "\n",
    "def fetchdata(url):\n",
    "    data = {}\n",
    "    response = requests.get(url, headers=headers)\n",
    "    \n",
    "    soup = BeautifulSoup(response.content, 'html.parser')  \n",
    "    medic = soup.find_all(class_=\"style__font-bold___1k9Dl style__font-14px___YZZrf style__flex-row___2AKyf style__space-between___2mbvn style__padding-bottom-5px___2NrDR\")\n",
    "\n",
    "    for medicine in medic:\n",
    "        medicine = medicine.text\n",
    "        tmp = medicine.split(\"MRP\")\n",
    "        data[tmp[0]] = tmp[-1]\n",
    "    \n",
    "    return data\n"
   ]
  },
  {
   "cell_type": "code",
   "execution_count": 55,
   "id": "abb89803",
   "metadata": {},
   "outputs": [],
   "source": [
    "tt = fetchdata(\"https://www.1mg.com/drugs-all-medicines?page=1\")\n"
   ]
  },
  {
   "cell_type": "code",
   "execution_count": 56,
   "id": "4c0ab041",
   "metadata": {},
   "outputs": [
    {
     "data": {
      "text/plain": [
       "'₹33863'"
      ]
     },
     "execution_count": 56,
     "metadata": {},
     "output_type": "execute_result"
    }
   ],
   "source": [
    "tt['Avastin 100mg Injection']\n"
   ]
  },
  {
   "cell_type": "code",
   "execution_count": null,
   "id": "013d5485",
   "metadata": {},
   "outputs": [],
   "source": [
    "i = 97\n",
    "max_page = []\n",
    "while i <= 122:\n",
    "    url = \"https://www.1mg.com/drugs-all-medicines?label=\" + str(i)\n",
    "    response = requests.get(url, headers=headers)\n",
    "    soup = BeautifulSoup(response.content, 'html.parser')\n",
    "    a = soup.find_all(class_=\"button-text link-page\")\n",
    "    if a:  \n",
    "        no = int(a[-1].text)\n",
    "        max_page.append(no)\n",
    "    i += 1\n"
   ]
  },
  {
   "cell_type": "code",
   "execution_count": 67,
   "id": "ba658e78",
   "metadata": {},
   "outputs": [
    {
     "data": {
      "text/plain": [
       "'a'"
      ]
     },
     "execution_count": 67,
     "metadata": {},
     "output_type": "execute_result"
    }
   ],
   "source": [
    "chr(97)"
   ]
  },
  {
   "cell_type": "code",
   "execution_count": 72,
   "id": "4b63226f",
   "metadata": {},
   "outputs": [
    {
     "data": {
      "text/plain": [
       "{'Avastin 100mg Injection': '₹33863',\n",
       " 'Actorise 40 Injection': '₹2928.2',\n",
       " 'Actorise 25 Injection': '₹1815',\n",
       " 'Actorise 60 Injection': '₹4235',\n",
       " 'Azel 80 Capsule': '₹8700',\n",
       " 'Avastin 400mg Injection': '₹123506',\n",
       " 'Azel 40mg Capsule': '₹8700',\n",
       " 'Actorise 200 Injection': '₹15007.02',\n",
       " 'Actorise 100 Injection': '₹8052.55',\n",
       " 'Azacytin Injection': '₹5586.75',\n",
       " 'ALECensa 150mg Capsule': '₹124607',\n",
       " 'Aromasin 25mg Tablet': '₹5873.47',\n",
       " 'Augmentin 625 Duo Tablet': '₹208.42',\n",
       " 'Ascoril LS Syrup': '₹141',\n",
       " 'Azithral 500 Tablet': '₹134.28',\n",
       " 'Amoxyclav 625 Tablet': '₹204.94',\n",
       " 'Allegra 120mg Tablet': '₹264.72',\n",
       " 'Aricep 5 Tablet': '₹135',\n",
       " 'Avil 25 Tablet': '₹13.25',\n",
       " 'Aciloc 150 Tablet': '₹53.8',\n",
       " 'Alex Syrup': '₹154.5',\n",
       " 'Ascoril D Plus Syrup Sugar Free': '₹154.5',\n",
       " 'Azee 500 Tablet': '₹134.28',\n",
       " 'Allegra-M Tablet': '₹292.18',\n",
       " 'Atarax 25mg Tablet': '₹113.5',\n",
       " 'Ativan 1mg Tablet': '₹78.54',\n",
       " 'Augmentin Duo Oral Suspension': '₹67.54',\n",
       " 'Arkamin Tablet': '₹96.4',\n",
       " 'Armotraz Tablet': '₹760.94',\n",
       " 'Avomine Tablet': '₹67.72'}"
      ]
     },
     "execution_count": 72,
     "metadata": {},
     "output_type": "execute_result"
    }
   ],
   "source": [
    "tt"
   ]
  },
  {
   "cell_type": "code",
   "execution_count": 71,
   "id": "cce38abb",
   "metadata": {},
   "outputs": [],
   "source": [
    "def save_to_csv(data):\n",
    "    name = []\n",
    "    price = []\n",
    "    for key in data:\n",
    "        name.append(key)\n",
    "        price.append(data[key])\n",
    "    df = {\"Medicine Name\": name, \"Price\": price}\n",
    "    df = pd.DataFrame.from_dict(df)\n",
    "    df.to_excel(\"medicine.xlsx\")"
   ]
  },
  {
   "cell_type": "code",
   "execution_count": 17,
   "id": "de679ba2",
   "metadata": {},
   "outputs": [
    {
     "name": "stdout",
     "output_type": "stream",
     "text": [
      "Working on a\n",
      "Working on b\n",
      "Working on c\n",
      "Get all the data..........\n",
      "Saving data in XLSX file.....\n",
      "Data saved in XLSX.\n"
     ]
    }
   ],
   "source": [
    "def main():\n",
    "    data = {}\n",
    "    j = 96\n",
    "    max_page = [2, 3, 4]  # <-- Define this before using it\n",
    "\n",
    "    for page in max_page:\n",
    "        j += 1\n",
    "        i = 1\n",
    "        print(\"Working on\", chr(j))\n",
    "        while i <= page:\n",
    "            url = f\"https://www.1mg.com/drugs-all-medicines?page={i}\"\n",
    "            tmp = dict(fetchdata(url))  # make sure fetchdata is defined\n",
    "            data.update(tmp)\n",
    "            i += 1\n",
    "\n",
    "    print(\"Get all the data..........\")\n",
    "    print(\"Saving data in XLSX file.....\")\n",
    "    save_to_csv(data)  # make sure save_to_csv is defined\n",
    "    print(\"Data saved in XLSX.\")\n",
    "\n",
    "# 1️⃣ Run the cell above first\n",
    "# 2️⃣ Then run this:\n",
    "main()\n"
   ]
  },
  {
   "cell_type": "code",
   "execution_count": 18,
   "id": "13452169",
   "metadata": {},
   "outputs": [
    {
     "name": "stdout",
     "output_type": "stream",
     "text": [
      "Working on a\n",
      "Working on b\n",
      "Working on c\n",
      "Get all the data..........\n",
      "Saving data in XLSX file.....\n",
      "Data saved in XLSX.\n"
     ]
    }
   ],
   "source": [
    "main()"
   ]
  }
 ],
 "metadata": {
  "kernelspec": {
   "display_name": ".venv",
   "language": "python",
   "name": "python3"
  },
  "language_info": {
   "codemirror_mode": {
    "name": "ipython",
    "version": 3
   },
   "file_extension": ".py",
   "mimetype": "text/x-python",
   "name": "python",
   "nbconvert_exporter": "python",
   "pygments_lexer": "ipython3",
   "version": "3.13.5"
  }
 },
 "nbformat": 4,
 "nbformat_minor": 5
}
